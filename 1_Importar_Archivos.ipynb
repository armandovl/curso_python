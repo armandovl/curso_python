{
  "nbformat": 4,
  "nbformat_minor": 0,
  "metadata": {
    "colab": {
      "name": "1.-Importar_Archivos.ipynb",
      "provenance": [],
      "include_colab_link": true
    },
    "kernelspec": {
      "name": "python3",
      "display_name": "Python 3"
    }
  },
  "cells": [
    {
      "cell_type": "markdown",
      "metadata": {
        "id": "view-in-github",
        "colab_type": "text"
      },
      "source": [
        "<a href=\"https://colab.research.google.com/github/armandovl/curso_python/blob/main/1_Importar_Archivos.ipynb\" target=\"_parent\"><img src=\"https://colab.research.google.com/assets/colab-badge.svg\" alt=\"Open In Colab\"/></a>"
      ]
    },
    {
      "cell_type": "markdown",
      "metadata": {
        "id": "UoiGEu8zRkQF"
      },
      "source": [
        "## **Importar Archivos desde Internet**\n"
      ]
    },
    {
      "cell_type": "markdown",
      "metadata": {
        "id": "Q19yTiM7e1-R"
      },
      "source": [
        "### 1.-Traer Archivo desde Github <br>\n",
        "1.- Crear un nuevo repositorio en Github <br>\n",
        "2.-Subir el archivo (sólo csv) <br>\n",
        "3.-dar click en \"raw\" y obtener el enlace"
      ]
    },
    {
      "cell_type": "code",
      "metadata": {
        "id": "7TOQ_XIEg84E"
      },
      "source": [
        "import pandas as pd\n",
        "url=\"https://raw.githubusercontent.com/armandovl/bases_de_datos/master/ParaR%20-%20Hoja%201.csv\"\n",
        "datosuno= pd.read_csv(url)\n",
        "datosuno.head(8)"
      ],
      "execution_count": null,
      "outputs": []
    },
    {
      "cell_type": "markdown",
      "metadata": {
        "id": "IgosCl4J5GqS"
      },
      "source": [
        "### 2.-Traer archivos desde DropBox\n",
        "1.-Darle click en compartir <br>\n",
        "2.-Darle click en copiar vínculo <br>\n",
        "3.-Cambiar \"dl=0\" por \"dl=1\" <br>\n"
      ]
    },
    {
      "cell_type": "code",
      "metadata": {
        "id": "kzNNa1Oo5G5C"
      },
      "source": [
        "import pandas as pd\n",
        "url5r=\"https://www.dropbox.com/s/hjqaeyxzqnnilyc/ingreso.xlsx?dl=1\"\n",
        "datosdropbox= pd.read_excel(url5r)\n",
        "datosdropbox.head(8)"
      ],
      "execution_count": null,
      "outputs": []
    },
    {
      "cell_type": "markdown",
      "metadata": {
        "id": "0vraSIFhppSW"
      },
      "source": [
        "### 3.-Llamar un archivo desde OneDrive<br>\n",
        "Sirve tanto para csv como xlsx<br>\n",
        "1.-Dar click al archivo y elegir \"compartir <br>\n",
        "2.-Copiar el vinculo y pegarlo en una nueva pestaña<br>\n",
        "ejemplo \"https://1drv.ms/u/s!Aplk5U2rHZHxwRmBdegcxiRQbLs0?e=zWpxIj\" <br>\n",
        "3.-El vínculo habrá cambiado ejemplo:<br>\n",
        "https://onedrive.live.com/edit.aspx?resid=F1911DAB4DE56499!8345&authkey=!AIF16BzGJFBsuzQ <br>\n",
        "4.-Cambiar \"edit.aspx\" por \"download.aspx\" <br>\n",
        "5.-El vínculo resultante es el que se va a usar\n",
        "\n"
      ]
    },
    {
      "cell_type": "code",
      "metadata": {
        "id": "GeJucXRIppsU"
      },
      "source": [
        "import pandas as pd\n",
        "url=\"https://onedrive.live.com/download.aspx?resid=F1911DAB4DE56499!8345&authkey=!AIF16BzGJFBsuzQ\"\n",
        "datosonedrive=pd.read_csv(url)\n",
        "datosonedrive.tail()"
      ],
      "execution_count": null,
      "outputs": []
    },
    {
      "cell_type": "markdown",
      "metadata": {
        "id": "NANZs5NxSGlz"
      },
      "source": [
        "### 4.-Importar una Spreadsheet de Google\n",
        "<br>\n",
        "1.-Se da click en Archivo-> Publicar en la web (no se toma el link que da)\n",
        "<br>\n",
        "2.-Se copia este link y se reemplaza por el key del original (puede ser csv o xlsx)\n",
        "<br>\n",
        "https://docs.google.com/spreadsheets/d/KEY/pub?gid=0&single=true&output=csv\n",
        "<br>\n",
        "https://docs.google.com/spreadsheets/d/KEY/pub?gid=0&single=true&output=xlsx\n"
      ]
    },
    {
      "cell_type": "code",
      "metadata": {
        "id": "LJ1cTKVRSNBT"
      },
      "source": [
        "import pandas as pd\n",
        "url=\"https://docs.google.com/spreadsheets/d/1fYlTX1JkyD55uqxrBoaOCeG5GxZhLkawYmcc9zEnkQs/pub?gid=0&single=true&output=xlsx\"\n",
        "spr=pd.read_excel(url)\n",
        "spr.tail()"
      ],
      "execution_count": null,
      "outputs": []
    },
    {
      "cell_type": "markdown",
      "metadata": {
        "id": "oeUmEVcwYRKd"
      },
      "source": [
        "### 5.-Importar un archivo subido a de Google Drive <br>\n",
        "1.-Se da click en Abrir con Hojas de calculo de Google <br>\n",
        "2.-Se copia el gid \"gid=1414548305\" <br>\n",
        "3.-Se da click en Archivo-> Publicar en la web (no se toma el link que da)\n",
        "4.-Se copia este link y se reemplaza por el key del original y el gid (puede ser csv o xlsx)\n",
        "<br>\n",
        "https://docs.google.com/spreadsheets/d/KEY/pub?gid=0&single=true&output=csv\n",
        "<br>\n",
        "https://docs.google.com/spreadsheets/d/KEY/pub?gid=0&single=true&output=xlsx\n",
        "\n",
        "\n"
      ]
    },
    {
      "cell_type": "code",
      "metadata": {
        "id": "bFcfXJ3AGi5X",
        "colab": {
          "base_uri": "https://localhost:8080/",
          "height": 204
        },
        "outputId": "1c9e4dac-f6ac-4a64-aaa1-abdf390891f0"
      },
      "source": [
        "import pandas as pd\n",
        "url=\"https://docs.google.com/spreadsheets/d/1aJ6OKYp0uiAJscvWPdIe1KBwibkXxQDg2RzzKwkXDVA/pub?gid=1414548305&single=true&output=xlsx\"\n",
        "datos3=pd.read_excel(url)\n",
        "datos3.tail()"
      ],
      "execution_count": null,
      "outputs": [
        {
          "output_type": "execute_result",
          "data": {
            "text/html": [
              "<div>\n",
              "<style scoped>\n",
              "    .dataframe tbody tr th:only-of-type {\n",
              "        vertical-align: middle;\n",
              "    }\n",
              "\n",
              "    .dataframe tbody tr th {\n",
              "        vertical-align: top;\n",
              "    }\n",
              "\n",
              "    .dataframe thead th {\n",
              "        text-align: right;\n",
              "    }\n",
              "</style>\n",
              "<table border=\"1\" class=\"dataframe\">\n",
              "  <thead>\n",
              "    <tr style=\"text-align: right;\">\n",
              "      <th></th>\n",
              "      <th>PassengerId</th>\n",
              "      <th>Name</th>\n",
              "      <th>Age</th>\n",
              "      <th>Pclass</th>\n",
              "      <th>Sex</th>\n",
              "      <th>Family</th>\n",
              "      <th>Embarked</th>\n",
              "      <th>Survived</th>\n",
              "    </tr>\n",
              "  </thead>\n",
              "  <tbody>\n",
              "    <tr>\n",
              "      <th>709</th>\n",
              "      <td>5</td>\n",
              "      <td>Allen, Mr. William Henry</td>\n",
              "      <td>35.0</td>\n",
              "      <td>3</td>\n",
              "      <td>male</td>\n",
              "      <td>0</td>\n",
              "      <td>S</td>\n",
              "      <td>muere</td>\n",
              "    </tr>\n",
              "    <tr>\n",
              "      <th>710</th>\n",
              "      <td>4</td>\n",
              "      <td>Futrelle, Mrs. Jacques Heath (Lily May Peel)</td>\n",
              "      <td>35.0</td>\n",
              "      <td>1</td>\n",
              "      <td>female</td>\n",
              "      <td>1</td>\n",
              "      <td>S</td>\n",
              "      <td>vive</td>\n",
              "    </tr>\n",
              "    <tr>\n",
              "      <th>711</th>\n",
              "      <td>3</td>\n",
              "      <td>Heikkinen, Miss. Laina</td>\n",
              "      <td>26.0</td>\n",
              "      <td>3</td>\n",
              "      <td>female</td>\n",
              "      <td>0</td>\n",
              "      <td>S</td>\n",
              "      <td>vive</td>\n",
              "    </tr>\n",
              "    <tr>\n",
              "      <th>712</th>\n",
              "      <td>2</td>\n",
              "      <td>Cumings, Mrs. John Bradley (Florence Briggs Th...</td>\n",
              "      <td>38.0</td>\n",
              "      <td>1</td>\n",
              "      <td>female</td>\n",
              "      <td>1</td>\n",
              "      <td>C</td>\n",
              "      <td>vive</td>\n",
              "    </tr>\n",
              "    <tr>\n",
              "      <th>713</th>\n",
              "      <td>1</td>\n",
              "      <td>Braund, Mr. Owen Harris</td>\n",
              "      <td>22.0</td>\n",
              "      <td>3</td>\n",
              "      <td>male</td>\n",
              "      <td>1</td>\n",
              "      <td>S</td>\n",
              "      <td>muere</td>\n",
              "    </tr>\n",
              "  </tbody>\n",
              "</table>\n",
              "</div>"
            ],
            "text/plain": [
              "     PassengerId  ... Survived\n",
              "709            5  ...    muere\n",
              "710            4  ...     vive\n",
              "711            3  ...     vive\n",
              "712            2  ...     vive\n",
              "713            1  ...    muere\n",
              "\n",
              "[5 rows x 8 columns]"
            ]
          },
          "metadata": {
            "tags": []
          },
          "execution_count": 1
        }
      ]
    }
  ]
}